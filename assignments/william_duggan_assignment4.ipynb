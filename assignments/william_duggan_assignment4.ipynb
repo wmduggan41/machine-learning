{
  "nbformat": 4,
  "nbformat_minor": 0,
  "metadata": {
    "kernelspec": {
      "display_name": "Python 3",
      "language": "python",
      "name": "python3"
    },
    "language_info": {
      "codemirror_mode": {
        "name": "ipython",
        "version": 3
      },
      "file_extension": ".py",
      "mimetype": "text/x-python",
      "name": "python",
      "nbconvert_exporter": "python",
      "pygments_lexer": "ipython3",
      "version": "3.7.4"
    },
    "colab": {
      "name": "william_duggan_assignment4.ipynb",
      "provenance": [],
      "collapsed_sections": []
    }
  },
  "cells": [
    {
      "cell_type": "markdown",
      "metadata": {
        "id": "Tajfsk_7JY3E"
      },
      "source": [
        "**Note to grader:** Each question consists of parts, e.g. Q1(i), Q1(ii), etc. Each part must be graded  on a 0-4 scale, following the standard NJIT convention (A:4, B+: 3.5, B:3, C+: 2.5, C: 2, D:1, F:0). \n",
        "The total score must be re-scaled to 100 -- that should apply to all future assignments so that Canvas assigns the same weight on all assignments. \n",
        "\n"
      ]
    },
    {
      "cell_type": "code",
      "source": [
        "# Grader's area\n",
        "import numpy as np\n",
        "M = np.zeros([10,10])\n",
        "maxScore = 0\n"
      ],
      "metadata": {
        "id": "zPnHTf9MfT5X"
      },
      "execution_count": 1,
      "outputs": []
    },
    {
      "cell_type": "markdown",
      "metadata": {
        "id": "SArgW_Vq-uTh"
      },
      "source": [
        "# **Assignment 4**\n",
        "\n",
        "The goal of this assignment is to run some experiments with scikit-learn on a fairly sizeable and interesting image data set. This is the MNIST data set that consists of lots of images, each having 28x28 pixels. By today's standards, this may seem relatively tiny, but only a few years ago was quite challenging computationally, and it motivated the development of several ML algorithms and models that are now state-of-the-art  solutions for much bigger data sets. \n",
        "\n",
        "The assignment is experimental. We will try to whether a combination of PCA and kNN can yield any good results for the MNIST data set. Let's see if it can be made to work on this data set. \n",
        "\n",
        "Note: There are less difficult Python parts in this assignment. You can get things done by just repeating things from the class notebooks. But your participation and interaction via Canvas is always appreciated!"
      ]
    },
    {
      "cell_type": "markdown",
      "metadata": {
        "id": "IlFM4hig-uTj"
      },
      "source": [
        "## Preparation Steps"
      ]
    },
    {
      "cell_type": "code",
      "metadata": {
        "id": "E3alYkjM-uTk"
      },
      "source": [
        "# Import all necessary python packages\n",
        "import numpy as np\n",
        "import os\n",
        "import pandas as pd\n",
        "import matplotlib.pyplot as plt\n",
        "from matplotlib.colors import ListedColormap\n",
        "from sklearn.linear_model import LogisticRegression"
      ],
      "execution_count": 2,
      "outputs": []
    },
    {
      "cell_type": "code",
      "metadata": {
        "id": "4JEBC9tZEZel"
      },
      "source": [
        "# we load the data set directly from scikit learn \n",
        "# \n",
        "# note: this operation may take a few seconds. If for any reason it fails we \n",
        "# can revert back to loading from local storage. \n",
        "\n",
        "from sklearn.datasets import fetch_openml\n",
        "from sklearn.model_selection import train_test_split\n",
        "\n",
        "\n",
        "X, y = fetch_openml('mnist_784', version=1, return_X_y=True)\n",
        "y = y.astype(int)\n",
        "X = ((X / 255.) - .5) * 2\n",
        "X_train, X_test, y_train, y_test = train_test_split(\n",
        "    X, y, test_size=10000, random_state=123, stratify=y)\n"
      ],
      "execution_count": 3,
      "outputs": []
    },
    {
      "cell_type": "markdown",
      "metadata": {
        "id": "GfrfDK0P-uT5"
      },
      "source": [
        "## <font color = 'blue'> Question 1. Inspecting the Dataset </font>\n",
        "\n",
        "**(i)** How many data points are in the training and test sets ? <br>\n",
        "**(ii)** How many attributes does the data set have ?\n",
        "\n",
        "Exlain how you found the answer to the first two questions. \n",
        "\n",
        "[**Hint**: Use the 'shape' method associated with numpy arrays. ]\n",
        "\n",
        "**(iii)** How many different labels does this data set have. Can you demonsrate how to read that number from the vector of labels *y_train*?  <br>\n",
        "**(iv)** How does the number of attributes relates to the size of the images? <br>\n",
        "**(v)** What is the role of line 12 in the above code? \n",
        "\n",
        "\n",
        "\n",
        "\n",
        "\n",
        "*(Please insert cells below for your answers. Clearly id the part of the question you answer)*"
      ]
    },
    {
      "cell_type": "code",
      "metadata": {
        "id": "4po5m-tq-uT6",
        "colab": {
          "base_uri": "https://localhost:8080/"
        },
        "outputId": "878a045f-9022-48aa-af91-8fe11f11fa62"
      },
      "source": [
        "# (i) How many data points are in the training and test sets ?\n",
        "print('Question 1.1')\n",
        "print(\"Total train dataset size: \", X_train.shape[0])\n",
        "print(\"Total test dataset size: \", X_test.shape[0])"
      ],
      "execution_count": 4,
      "outputs": [
        {
          "output_type": "stream",
          "name": "stdout",
          "text": [
            "Question 1.1\n",
            "Total train dataset size:  60000\n",
            "Total test dataset size:  10000\n"
          ]
        }
      ]
    },
    {
      "cell_type": "code",
      "source": [
        "#(ii) How many attributes does the data set have ?\n",
        "print('Question 1.2')\n",
        "print(\"Total number of attributes: \",X_train.shape[1])"
      ],
      "metadata": {
        "colab": {
          "base_uri": "https://localhost:8080/"
        },
        "id": "VJowH2ICWDMw",
        "outputId": "c17bf2c4-2cc4-4dc6-8f9f-85cbd67adb44"
      },
      "execution_count": 5,
      "outputs": [
        {
          "output_type": "stream",
          "name": "stdout",
          "text": [
            "Question 1.2\n",
            "Total number of attributes:  784\n"
          ]
        }
      ]
    },
    {
      "cell_type": "code",
      "source": [
        "#(iii) How many different labels does this data set have. \n",
        "# Can you demonsrate how to read that number from the vector of labels y_train?\n",
        "print('Question 1.3')\n",
        "print(\"Label size: \",np.unique(y_train).size)"
      ],
      "metadata": {
        "colab": {
          "base_uri": "https://localhost:8080/"
        },
        "id": "QoXuttWhWelP",
        "outputId": "180845e5-f0ad-4f1c-80c9-42c7b135a3b7"
      },
      "execution_count": 6,
      "outputs": [
        {
          "output_type": "stream",
          "name": "stdout",
          "text": [
            "Question 1.3\n",
            "Label size:  10\n"
          ]
        }
      ]
    },
    {
      "cell_type": "markdown",
      "source": [
        "(iv) How does the number of attributes relates to the size of the images? <br><br>\n",
        "- There are 784 number of attributes that are classified by pixel size of image.<br>\n",
        "- Each image size is 28 x 28 which is equal to 784."
      ],
      "metadata": {
        "id": "7eTwrYLsWy6U"
      }
    },
    {
      "cell_type": "markdown",
      "source": [
        "(v) What is the role of line 12 in the above code? <br><br>\n",
        "- The line takes the vector **X** and transofrms the same.<br> \n",
        "- We divide the **X** vector by **255** so the values fall in range of **0 and 1**.<br>\n",
        "- We subtract it from **0.5** and multiply by **2**.<br>\n",
        "We make all values in the vecot **X** in the range [0,1].<br>\n",
        "- **X** = ((**X**/**255**)-**0.5**)***2**\n"
      ],
      "metadata": {
        "id": "WZdsMaemXi6g"
      }
    },
    {
      "cell_type": "code",
      "metadata": {
        "id": "IllLoXxGAIIo"
      },
      "source": [
        "# For grader use only\n",
        "\n",
        "# in this case, make excetion and, assign 0-2 points for each subquestion\n",
        "\n",
        "# insert grade here  \n",
        "# G[1,1] = \n",
        "# G[1,2] =\n",
        "# G[1,3] = \n",
        "# G[1,4] = \n",
        "# G[1,5] =  \n",
        "\n",
        "\n",
        "maxScore = maxScore + 10\n"
      ],
      "execution_count": 7,
      "outputs": []
    },
    {
      "cell_type": "markdown",
      "metadata": {
        "id": "YMEcdAp3-uT-"
      },
      "source": [
        "##  <font color = 'blue'> Question 2. PCA on MNIST </font>\n",
        "\n",
        "Because the number of attributes of the MNIST data set may be too big to apply kNN on it (due to the 'curse of dimensionality'), we want to compress the images down to a smaller number of 'fake' attributes. \n",
        "\n",
        "Use scikit-learn to output a data set *X_train_transformed* and *X_test_transformed*, with $l$ attributes. Here a reasonable choice of $l$ is 10, equal to the number of labels. But you can try slightly smaller or bigger values as well. \n",
        "\n",
        "\n",
        "**Hint**: Take a look at [this notebook](https://colab.research.google.com/drive/1DG5PjWejo8F7AhozHxj8329SuMtXZ874?usp=drive_fs) we used in the lecture, and imitate what we did there. Be careful though, to use only the scikit-learn demonstration, not the exhaustive PCA steps we did before it.\n",
        "\n",
        "**Note**: This computation can take a while. If problems are encountered we can try the same experiment on a downsized data set. "
      ]
    },
    {
      "cell_type": "code",
      "source": [
        "# Question 2 answer:\n",
        "from sklearn.decomposition import PCA\n",
        "\n",
        "\n",
        "# transform the data using PCA\n",
        "n_components = 10\n",
        "pca = PCA(n_components = n_components)\n",
        "X_train_transformed = pca.fit_transform(X_train)\n",
        "X_test_transformed = pca.transform(X_test)\n",
        "print('Question 2 answered')"
      ],
      "metadata": {
        "colab": {
          "base_uri": "https://localhost:8080/"
        },
        "id": "RbGTsZtXAFQO",
        "outputId": "a90ade98-038e-4125-c800-db2e086c88c1"
      },
      "execution_count": 8,
      "outputs": [
        {
          "output_type": "stream",
          "name": "stdout",
          "text": [
            "Question 2 answered\n"
          ]
        }
      ]
    },
    {
      "cell_type": "code",
      "metadata": {
        "id": "sBjMZF1wGaUp"
      },
      "source": [
        "# for grader use\n",
        "maxScore = maxScore +4 \n",
        "\n",
        "\n",
        "# insert grade here (out of 4)\n",
        "# G[2,1] =\n",
        "\n"
      ],
      "execution_count": 9,
      "outputs": []
    },
    {
      "cell_type": "markdown",
      "metadata": {
        "id": "Pe9kKR3J-uUA"
      },
      "source": [
        "## <font color = 'blue'> Question 3. kNN on MNIST attributes from PCA </font>\n",
        "\n",
        "\n",
        "Having calculated the *transformed* MNIST data set we can now apply a kNN approach to the MNIST classification data set. Here are the sets:\n",
        "\n",
        "(i) Fit a $k$-NN classifier on the transformed data set. Here $k$ is a hyperparameter, and you can experiment with it. Be aware though, that larger $k$ can take more time to fit. \n",
        "\n",
        "(ii) Apply the classifier on the transformed test set. What is the classification accuracy? \n",
        "\n",
        "(iii) A theoretical question: if we skipped all the above steps and we just assigned a **random** label to each test point, what would the classification accuracy be on average?  Does your result (ii) beat the random expectation? \n",
        "\n",
        "(iv) Experiment with different settings of $k$, and other hyperparameters that are described in the scikit-learn manual of the kNN classifier. Report your findings in a separate cell. Also for **participation points**: report your best result on Canvas! \n",
        "\n",
        "[**Hint**: Imitate the steps from the classroom notebook]\n"
      ]
    },
    {
      "cell_type": "code",
      "metadata": {
        "id": "5v7Q2NKp-uUM",
        "colab": {
          "base_uri": "https://localhost:8080/"
        },
        "outputId": "fcdb994b-02af-4150-8614-45bf7224c6d8"
      },
      "source": [
        "# (i) Fit a  k -NN classifier on the transformed data set. \n",
        "# Here  k  is a hyperparameter, and you can experiment with it. \n",
        "# Be aware though, that larger  k  can take more time to fit.\n",
        "\n",
        "from sklearn.neighbors import KNeighborsClassifier\n",
        "k = 3\n",
        "knn = KNeighborsClassifier(n_neighbors = k)\n",
        "knn.fit(X_train_transformed, y_train)\n",
        "\n",
        "print('Question 3.1')\n",
        "print('k-NN fit on transformed dataset k = 3')"
      ],
      "execution_count": 10,
      "outputs": [
        {
          "output_type": "stream",
          "name": "stdout",
          "text": [
            "Question 3.1\n",
            "k-NN fit on transformed dataset k = 3\n"
          ]
        }
      ]
    },
    {
      "cell_type": "code",
      "source": [
        "# (ii) Apply the classifier on the transformed test set. What is the classification accuracy?\n",
        "# display the accuracy for various k values\n",
        "\n",
        "print('Question 3.2')\n",
        "print('For k =', str(k) + ': Accuracy =', knn.score(X_test_transformed, y_test))"
      ],
      "metadata": {
        "colab": {
          "base_uri": "https://localhost:8080/"
        },
        "id": "NgU8AzoGHaqn",
        "outputId": "d33a373a-9924-4dde-e0ba-975dbc066047"
      },
      "execution_count": 11,
      "outputs": [
        {
          "output_type": "stream",
          "name": "stdout",
          "text": [
            "Question 3.2\n",
            "For k = 3: Accuracy = 0.9322\n"
          ]
        }
      ]
    },
    {
      "cell_type": "code",
      "source": [
        "# (iii) A theoretical question: if we skipped all the above steps and we just assigned \n",
        "# a random label to each test point, what would the classification accuracy be on average? \n",
        "# Does your result (ii) beat the random expectation?\n",
        "from sklearn.utils import shuffle\n",
        "y_test_random = shuffle(y_test)\n",
        "\n",
        "print('Question 3.3')\n",
        "print('For k =', str(k) + ' on original test set: Accuracy =', knn.score(X_test_transformed, y_test))\n",
        "print('For k =', str(k) + ' on random test set: Accuracy =', knn.score(X_test_transformed, y_test_random))\n",
        "print('The classification accuracy is higher with the labels on the original data set.')"
      ],
      "metadata": {
        "colab": {
          "base_uri": "https://localhost:8080/"
        },
        "id": "J7-otUb_MDui",
        "outputId": "ee4f0586-1a15-493b-f644-42feb7d75183"
      },
      "execution_count": 12,
      "outputs": [
        {
          "output_type": "stream",
          "name": "stdout",
          "text": [
            "Question 3.3\n",
            "For k = 3 on original test set: Accuracy = 0.9322\n",
            "For k = 3 on random test set: Accuracy = 0.0939\n",
            "The classification accuracy is higher with the labels on the original data set.\n"
          ]
        }
      ]
    },
    {
      "cell_type": "code",
      "source": [
        "#(iv) Experiment with different settings of  k , and other hyperparameters that \n",
        "# are described in the scikit-learn manual of the kNN classifier. Report your findings in a separate cell. \n",
        "print('Question 3.4')\n",
        "for k in list(range(1,11)):\n",
        "  knn = KNeighborsClassifier(n_neighbors=k)\n",
        "  knn.fit(X_train_transformed, y_train)\n",
        "  print('For k =', str(k) + ': Accuracy =', knn.score(X_test_transformed, y_test))"
      ],
      "metadata": {
        "colab": {
          "base_uri": "https://localhost:8080/"
        },
        "id": "2W7vIA4OD6cl",
        "outputId": "f31c95c8-3b72-459c-9583-e13d80e019cf"
      },
      "execution_count": 13,
      "outputs": [
        {
          "output_type": "stream",
          "name": "stdout",
          "text": [
            "Question 3.4\n",
            "For k = 1: Accuracy = 0.9185\n",
            "For k = 2: Accuracy = 0.9145\n",
            "For k = 3: Accuracy = 0.9322\n",
            "For k = 4: Accuracy = 0.9316\n",
            "For k = 5: Accuracy = 0.9347\n",
            "For k = 6: Accuracy = 0.9329\n",
            "For k = 7: Accuracy = 0.9347\n",
            "For k = 8: Accuracy = 0.9337\n",
            "For k = 9: Accuracy = 0.9347\n",
            "For k = 10: Accuracy = 0.9331\n"
          ]
        }
      ]
    },
    {
      "cell_type": "code",
      "metadata": {
        "id": "NuYcPkCaGe9p"
      },
      "source": [
        "# for grader use\n",
        "maxScore = maxScore +12\n",
        "\n",
        "# insert grade here (each item out of 4)\n",
        "# G[3,1] =\n",
        "# G[3,2] = \n",
        "# G[3,3] =\n",
        "# G[3,4] = "
      ],
      "execution_count": 14,
      "outputs": []
    },
    {
      "cell_type": "code",
      "metadata": {
        "id": "fydXo8GRGkbp",
        "colab": {
          "base_uri": "https://localhost:8080/",
          "height": 218
        },
        "outputId": "459cfd4b-4425-421f-93b9-96cacc1cc4a1"
      },
      "source": [
        "# for grader use\n",
        "\n",
        "# Total Grade Calculation\n",
        "rawScore = np.sum(G)\n",
        "score = rawScore*100/maxScore"
      ],
      "execution_count": 15,
      "outputs": [
        {
          "output_type": "error",
          "ename": "NameError",
          "evalue": "ignored",
          "traceback": [
            "\u001b[0;31m---------------------------------------------------------------------------\u001b[0m",
            "\u001b[0;31mNameError\u001b[0m                                 Traceback (most recent call last)",
            "\u001b[0;32m<ipython-input-15-9d045ecd90b3>\u001b[0m in \u001b[0;36m<module>\u001b[0;34m()\u001b[0m\n\u001b[1;32m      2\u001b[0m \u001b[0;34m\u001b[0m\u001b[0m\n\u001b[1;32m      3\u001b[0m \u001b[0;31m# Total Grade Calculation\u001b[0m\u001b[0;34m\u001b[0m\u001b[0;34m\u001b[0m\u001b[0;34m\u001b[0m\u001b[0m\n\u001b[0;32m----> 4\u001b[0;31m \u001b[0mrawScore\u001b[0m \u001b[0;34m=\u001b[0m \u001b[0mnp\u001b[0m\u001b[0;34m.\u001b[0m\u001b[0msum\u001b[0m\u001b[0;34m(\u001b[0m\u001b[0mG\u001b[0m\u001b[0;34m)\u001b[0m\u001b[0;34m\u001b[0m\u001b[0;34m\u001b[0m\u001b[0m\n\u001b[0m\u001b[1;32m      5\u001b[0m \u001b[0mscore\u001b[0m \u001b[0;34m=\u001b[0m \u001b[0mrawScore\u001b[0m\u001b[0;34m*\u001b[0m\u001b[0;36m100\u001b[0m\u001b[0;34m/\u001b[0m\u001b[0mmaxScore\u001b[0m\u001b[0;34m\u001b[0m\u001b[0;34m\u001b[0m\u001b[0m\n",
            "\u001b[0;31mNameError\u001b[0m: name 'G' is not defined"
          ]
        }
      ]
    }
  ]
}